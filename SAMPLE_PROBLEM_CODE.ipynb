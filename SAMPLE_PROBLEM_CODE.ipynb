{
 "cells": [
  {
   "cell_type": "code",
   "execution_count": null,
   "metadata": {},
   "outputs": [],
   "source": [
    "#  -------------------------------------------\n",
    "\"\"\"\n",
    "입출력 양식을 \n",
    "준수해 주십시오\n",
    "\n",
    "###  INPUT ###\n",
    "import pandas as pd\n",
    "input_data = pd.read_csv('SAMPLE_DATA.csv')\n",
    "\n",
    "{\n",
    "    \n",
    "        Write codes...\n",
    "    \n",
    "    Training model name : model\n",
    "    ex) y_pred = model.predict(X_test)\n",
    "    \n",
    "\n",
    "}\n",
    "\n",
    "\n",
    "### OUTPUT ###\n",
    "print(\"RMSE:\", rmse)\n",
    "print(\"R2_score:\", r2score)\n",
    "\"\"\""
   ]
  },
  {
   "cell_type": "code",
   "execution_count": 3,
   "metadata": {},
   "outputs": [
    {
     "name": "stdout",
     "output_type": "stream",
     "text": [
      "RMSE: 0.7455813830127764\n",
      "R2_score: 0.5757877060324508\n"
     ]
    }
   ],
   "source": [
    "###  INPUT ###\n",
    "import pandas as pd\n",
    "input_data = pd.read_csv('SAMPLE_DATA.csv')\n",
    "\n",
    "import numpy as np\n",
    "import pandas as pd\n",
    "from sklearn.model_selection import train_test_split\n",
    "from sklearn.linear_model import LinearRegression\n",
    "from sklearn.metrics import mean_squared_error, r2_score\n",
    "\n",
    "# California Housing 데이터셋 로드\n",
    "'''\n",
    " \n",
    " Scikit-learn의 내장 데이터셋 중 하나인 California Housing 데이터셋을 로드합니다. \n",
    " \n",
    " '''\n",
    "housing = input_data\n",
    "\n",
    "# 데이터셋을 data, target으로 변수분리\n",
    "data = housing.iloc[:,:-1]\n",
    "target = housing.iloc[:,-1]\n",
    "\n",
    "# 데이터를 훈련 세트와 테스트 세트로 분할\n",
    "'''\n",
    "\n",
    "데이터를 훈련 세트와 테스트 세트로 나누는 데 사용됩니다. \n",
    "이는 모델의 성능을 평가하기 위해 데이터를 분리하는 일반적인 절차입니다.\n",
    "\n",
    "'''\n",
    "X_train, X_test, y_train, y_test = train_test_split(data, target, test_size=0.2, random_state=42)\n",
    "\n",
    "# 선형 회귀 모델 초기화\n",
    "'''\n",
    "\n",
    "선형 회귀는 주어진 입력 변수와 목표 변수 간의 관계를 모델링하는 데 사용되는 간단한 회귀 알고리즘입니다.\n",
    "\n",
    "'''\n",
    "model = LinearRegression()\n",
    "\n",
    "# 모델 훈련\n",
    "model.fit(X_train, y_train)\n",
    "\n",
    "# 테스트 세트에 대한 예측\n",
    "y_pred = model.predict(X_test)\n",
    "\n",
    "# RMSE 계산\n",
    "'''\n",
    "\n",
    "mean_squared_error와 r2_score는 회귀 모델의 예측 성능을 평가하는 메트릭입니다. \n",
    "RMSE는 예측값과 실제값 간의 제곱 오차의 평균 제곱근을 나타내며, \n",
    "R2 스코어는 모델이 데이터의 분산을 얼마나 설명하는지를 나타냅니다.\n",
    "\n",
    "'''\n",
    "rmse = np.sqrt(mean_squared_error(y_test, y_pred))\n",
    "r2score = r2_score(y_test, y_pred)\n",
    "\n",
    "\n",
    "### OUTPUT ###\n",
    "print(\"RMSE:\", rmse)\n",
    "print(\"R2_score:\", r2score)"
   ]
  },
  {
   "cell_type": "code",
   "execution_count": null,
   "metadata": {},
   "outputs": [],
   "source": []
  }
 ],
 "metadata": {
  "kernelspec": {
   "display_name": "Python 3",
   "language": "python",
   "name": "python3"
  },
  "language_info": {
   "codemirror_mode": {
    "name": "ipython",
    "version": 3
   },
   "file_extension": ".py",
   "mimetype": "text/x-python",
   "name": "python",
   "nbconvert_exporter": "python",
   "pygments_lexer": "ipython3",
   "version": "3.11.4"
  },
  "orig_nbformat": 4
 },
 "nbformat": 4,
 "nbformat_minor": 2
}
