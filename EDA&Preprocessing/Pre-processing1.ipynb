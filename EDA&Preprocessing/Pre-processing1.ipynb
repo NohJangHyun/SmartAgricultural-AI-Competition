{
 "cells": [
  {
   "cell_type": "markdown",
   "id": "bdedad3c-306a-43d2-aeb1-e439828ff054",
   "metadata": {},
   "source": [
    "### Pre-processing(Imputation)"
   ]
  },
  {
   "cell_type": "code",
   "execution_count": 104,
   "id": "9c97890a-c4ab-41a8-83a4-5ba68e51e5d5",
   "metadata": {},
   "outputs": [],
   "source": [
    "import pandas as pd\n",
    "import numpy as np"
   ]
  },
  {
   "cell_type": "code",
   "execution_count": 105,
   "id": "7286eb21-ca0a-41e2-8f73-ae6d601d2d56",
   "metadata": {},
   "outputs": [],
   "source": [
    "input_data = pd.read_csv('~/project/스마트농업 AI/Data/2023_smartFarm_AI_hackathon_dataset.csv')"
   ]
  },
  {
   "cell_type": "markdown",
   "id": "3cb168d7-2c23-483a-9b2c-33c49fa5dec3",
   "metadata": {
    "jp-MarkdownHeadingCollapsed": true,
    "tags": []
   },
   "source": [
    "##### 1. frmYear, frmWeek - 각 칼럼별 비율을 고려한 random imputation"
   ]
  },
  {
   "cell_type": "code",
   "execution_count": 64,
   "id": "e8f2f91a-5104-4e35-97a5-a777d032b9f2",
   "metadata": {},
   "outputs": [
    {
     "name": "stdout",
     "output_type": "stream",
     "text": [
      "11580\n",
      "11580\n",
      "0\n",
      "0\n"
     ]
    }
   ],
   "source": [
    "# 결과 확인\n",
    "print((input_data[\"frmYear\"] == 0).sum())\n",
    "print((input_data[\"frmWeek\"] == 0).sum())\n",
    "\n",
    "# 1. frmYear가 0인 값을 랜덤으로 채우기\n",
    "zero_year_mask = input_data[\"frmYear\"] == 0\n",
    "num_zero_year = zero_year_mask.sum()  # frmYear가 0인 행의 개수\n",
    "\n",
    "# 2017, 2018, 2019 년도 중에서 랜덤으로 선택하여 대체\n",
    "random_years = np.random.choice([2017, 2018, 2019], size=num_zero_year)\n",
    "input_data.loc[zero_year_mask, \"frmYear\"] = random_years\n",
    "\n",
    "# 2. frmWeek 값을 해당 년도의 비율을 고려하여 랜덤으로 채우기\n",
    "# 년도 목록 정의\n",
    "years = [2017, 2018, 2019]\n",
    "\n",
    "# 각 년도별로 처리\n",
    "for year in years:\n",
    "    year_mask = input_data[\"frmYear\"] == year\n",
    "    num_year = year_mask.sum()  # 해당 년도의 행의 개수\n",
    "    \n",
    "    if num_year > 0:\n",
    "        # 해당 년도의 값이 0인 frmWeek 데이터 추출\n",
    "        zero_weeks = input_data.loc[year_mask, \"frmWeek\"]\n",
    "        zero_week_indices = zero_weeks[zero_weeks == 0].index\n",
    "        \n",
    "        if not zero_week_indices.empty:\n",
    "            # 해당 년도의 frmWeek 비율 계산\n",
    "            non_zero_weeks = zero_weeks[zero_weeks != 0]\n",
    "            week_ratios = non_zero_weeks.value_counts(normalize=True)\n",
    "            \n",
    "            # 0인 값을 해당 년도의 비율에 맞게 랜덤으로 대체\n",
    "            random_weeks = np.random.choice(week_ratios.index, size=len(zero_week_indices), p=week_ratios.values)\n",
    "            \n",
    "            # 대체한 값을 데이터프레임에 할당\n",
    "            input_data.loc[zero_week_indices, \"frmWeek\"] = random_weeks\n",
    "\n",
    "\n",
    "# 결과 확인\n",
    "print((input_data[\"frmYear\"] == 0).sum())\n",
    "print((input_data[\"frmWeek\"] == 0).sum())"
   ]
  },
  {
   "cell_type": "markdown",
   "id": "2765f825-7984-4095-9488-505646b3d073",
   "metadata": {},
   "source": [
    "##### 2. frmYear, frmWeek - date 기반 imputation"
   ]
  },
  {
   "cell_type": "code",
   "execution_count": 102,
   "id": "0d34230e-739d-4755-82f8-aadda8fd0dcb",
   "metadata": {},
   "outputs": [
    {
     "name": "stdout",
     "output_type": "stream",
     "text": [
      "11580\n",
      "11580\n",
      "0\n",
      "0\n"
     ]
    }
   ],
   "source": [
    "print((input_data[\"frmYear\"] == 0).sum())\n",
    "print((input_data[\"frmWeek\"] == 0).sum())\n",
    "\n",
    "# \"date\" 칼럼을 datetime 형식으로 변환해서 \"data1\"에 저장 이후 drop\n",
    "input_data[\"date1\"] = pd.to_datetime(input_data[\"date\"], format=\"%Y%m%d\")\n",
    "input_data[\"date1\"]\n",
    "\n",
    "# \"frmYear\"와 \"frmWeek\" 칼럼의 값이 0인 경우를 확인하고 처리\n",
    "for index, row in input_data.iterrows():\n",
    "    if row[\"frmYear\"] == 0 or row[\"frmWeek\"] == 0:\n",
    "        input_data.at[index, \"frmYear\"] = row[\"date1\"].year\n",
    "        input_data.at[index, \"frmWeek\"] = row[\"date1\"].week\n",
    "\n",
    "# \"frmYear\"와 \"frmWeek\" 칼럼을 정수(int) 형식으로 변환\n",
    "input_data[\"frmYear\"] = input_data[\"frmYear\"].astype(int)\n",
    "input_data[\"frmWeek\"] = input_data[\"frmWeek\"].astype(int)\n",
    "input_data.drop(\"date1\", axis=1, inplace=True)\n",
    "\n",
    "# 결과 확인\n",
    "print((input_data[\"frmYear\"] == 0).sum())\n",
    "print((input_data[\"frmWeek\"] == 0).sum())"
   ]
  },
  {
   "cell_type": "markdown",
   "id": "15b30d82-baaa-41be-afab-cc88a2e68013",
   "metadata": {
    "tags": []
   },
   "source": [
    "##### 3. inCo2(내부CO2), inTp(내부온도), inHd(내부습도), OutTp(외부온도) - frmAr(면적), frmDov(주수/평), date(날짜), frmYear(연도), frmWeek(주차)과의 KNN을 사용한 imputation"
   ]
  },
  {
   "cell_type": "code",
   "execution_count": 65,
   "id": "90afa6d3-8e3d-429b-b457-51d458a9750f",
   "metadata": {},
   "outputs": [
    {
     "name": "stdout",
     "output_type": "stream",
     "text": [
      "12210\n",
      "12210\n",
      "12210\n",
      "12210\n",
      "0\n",
      "0\n",
      "0\n",
      "0\n"
     ]
    }
   ],
   "source": [
    "import pandas as pd\n",
    "from sklearn.impute import KNNImputer\n",
    "import numpy as np\n",
    "\n",
    "# input_data에는 데이터프레임이 포함되어 있다고 가정합니다.\n",
    "\n",
    "# 결과 확인\n",
    "print((input_data[\"inCo2\"] == 0).sum())\n",
    "print((input_data[\"inTp\"] == 0).sum())\n",
    "print((input_data[\"inHd\"] == 0).sum())\n",
    "print((input_data[\"outTp\"] == 0).sum())\n",
    "\n",
    "# 사용할 칼럼 선택\n",
    "selected_columns = [\"frmAr\", \"frmDov\", \"date\", \"frmYear\", \"frmWeek\", \"inCo2\", \"inTp\", \"inHd\", \"outTp\"]\n",
    "\n",
    "# 0인 값을 NaN(결측치)로 변환\n",
    "input_data[selected_columns] = input_data[selected_columns].replace(0, np.nan)\n",
    "\n",
    "# KNN Imputer 객체 생성\n",
    "imputer = KNNImputer(n_neighbors=5)  # n_neighbors 값은 필요에 따라 조정\n",
    "\n",
    "# 결측치를 채울 칼럼 선택 및 결측치 처리\n",
    "input_data[selected_columns] = imputer.fit_transform(input_data[selected_columns])\n",
    "\n",
    "# 결과 확인\n",
    "print((input_data[\"inCo2\"] == 0).sum())\n",
    "print((input_data[\"inTp\"] == 0).sum())\n",
    "print((input_data[\"inHd\"] == 0).sum())\n",
    "print((input_data[\"outTp\"] == 0).sum())\n"
   ]
  },
  {
   "cell_type": "markdown",
   "id": "37271ddb-dbb1-47ad-a215-a58453b9da67",
   "metadata": {
    "jp-MarkdownHeadingCollapsed": true,
    "tags": []
   },
   "source": [
    "##### 4. ec(급액 EC), ph(급액 PH) mean으로 imputation"
   ]
  },
  {
   "cell_type": "code",
   "execution_count": 66,
   "id": "d2139fb8-765a-4b54-b456-279ed14db59d",
   "metadata": {},
   "outputs": [
    {
     "name": "stdout",
     "output_type": "stream",
     "text": [
      "18360\n",
      "18360\n",
      "0\n",
      "0\n"
     ]
    }
   ],
   "source": [
    "print((input_data[\"ec\"] == 0).sum())\n",
    "print((input_data[\"ph\"] == 0).sum())\n",
    "\n",
    "# 대상 칼럼 선택\n",
    "target_columns = [\"ec\", \"ph\"]\n",
    "\n",
    "# 0인 값을 NaN으로 변환\n",
    "input_data[target_columns] = input_data[target_columns].replace(0, np.nan)\n",
    "\n",
    "# 각 칼럼의 평균 계산\n",
    "mean_ec = input_data[\"ec\"].mean()\n",
    "mean_ph = input_data[\"ph\"].mean()\n",
    "\n",
    "# NaN 값을 각 칼럼의 평균 값으로 채우기\n",
    "input_data[\"ec\"].fillna(mean_ec, inplace=True)\n",
    "input_data[\"ph\"].fillna(mean_ph, inplace=True)\n",
    "\n",
    "print((input_data[\"ec\"] == 0).sum())\n",
    "print((input_data[\"ph\"] == 0).sum())"
   ]
  },
  {
   "cell_type": "markdown",
   "id": "afaffd3f-e155-4fb2-ba74-249b383942b2",
   "metadata": {
    "jp-MarkdownHeadingCollapsed": true,
    "tags": []
   },
   "source": [
    "##### 5. otmsuplyqy(1회 급액량), cunt(일 급액횟수) int mode로 imputation"
   ]
  },
  {
   "cell_type": "code",
   "execution_count": 67,
   "id": "2f4e9984-e197-408c-9955-af837fc75012",
   "metadata": {},
   "outputs": [
    {
     "name": "stdout",
     "output_type": "stream",
     "text": [
      "21750\n",
      "20280\n",
      "0\n",
      "0\n"
     ]
    }
   ],
   "source": [
    "print((input_data[\"otmsuplyqy\"] == 0).sum())\n",
    "print((input_data[\"cunt\"] == 0).sum())\n",
    "\n",
    "# 대상 칼럼 선택\n",
    "target_columns = [\"otmsuplyqy\", \"cunt\"]\n",
    "\n",
    "for column in target_columns:\n",
    "    # 0인 값을 NaN으로 변환\n",
    "    input_data[column] = input_data[column].replace(0, np.nan)\n",
    "    \n",
    "    # NaN 값을 최빈값(mode)으로 채우기\n",
    "    mode_value = input_data[column].mode().iloc[0]\n",
    "    input_data[column].fillna(mode_value, inplace=True)\n",
    "    \n",
    "print((input_data[\"otmsuplyqy\"] == 0).sum())\n",
    "print((input_data[\"cunt\"] == 0).sum())"
   ]
  },
  {
   "cell_type": "markdown",
   "id": "99ca405b-80b8-47a1-b90d-83da6c80af5d",
   "metadata": {},
   "source": [
    "##### 6. "
   ]
  },
  {
   "cell_type": "code",
   "execution_count": null,
   "id": "a6013fae-47c6-42f0-ae8d-f0264e7461d1",
   "metadata": {},
   "outputs": [],
   "source": []
  }
 ],
 "metadata": {
  "kernelspec": {
   "display_name": "Python 3 (ipykernel)",
   "language": "python",
   "name": "python3"
  },
  "language_info": {
   "codemirror_mode": {
    "name": "ipython",
    "version": 3
   },
   "file_extension": ".py",
   "mimetype": "text/x-python",
   "name": "python",
   "nbconvert_exporter": "python",
   "pygments_lexer": "ipython3",
   "version": "3.9.12"
  }
 },
 "nbformat": 4,
 "nbformat_minor": 5
}
